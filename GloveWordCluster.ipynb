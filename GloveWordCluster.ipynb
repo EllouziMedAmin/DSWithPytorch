{
  "nbformat": 4,
  "nbformat_minor": 0,
  "metadata": {
    "colab": {
      "provenance": [],
      "gpuType": "T4",
      "authorship_tag": "ABX9TyP3nnTCUBAJ82FtC90ndEpB",
      "include_colab_link": true
    },
    "kernelspec": {
      "name": "python3",
      "display_name": "Python 3"
    },
    "language_info": {
      "name": "python"
    },
    "accelerator": "GPU"
  },
  "cells": [
    {
      "cell_type": "markdown",
      "metadata": {
        "id": "view-in-github",
        "colab_type": "text"
      },
      "source": [
        "<a href=\"https://colab.research.google.com/github/EllouziMedAmin/DSWithPytorch/blob/main/GloveWordCluster.ipynb\" target=\"_parent\"><img src=\"https://colab.research.google.com/assets/colab-badge.svg\" alt=\"Open In Colab\"/></a>"
      ]
    },
    {
      "cell_type": "code",
      "source": [
        "!pip install torch==2.1.0 torchtext==0.16.0"
      ],
      "metadata": {
        "id": "irNpVNCefr6T"
      },
      "execution_count": null,
      "outputs": []
    },
    {
      "cell_type": "code",
      "execution_count": 4,
      "metadata": {
        "id": "vxHJB4Dydhke"
      },
      "outputs": [],
      "source": [
        "import pandas as pd\n",
        "from sklearn.manifold import TSNE\n",
        "import torchtext.vocab as vocab\n",
        "import torch"
      ]
    },
    {
      "cell_type": "code",
      "source": [
        "glove = vocab.GloVe(name='6B', dim=100)"
      ],
      "metadata": {
        "colab": {
          "base_uri": "https://localhost:8080/"
        },
        "id": "1BomN2uJfjN2",
        "outputId": "20d1eb8e-d322-4063-e493-6eb7028eb089"
      },
      "execution_count": 5,
      "outputs": [
        {
          "output_type": "stream",
          "name": "stderr",
          "text": [
            ".vector_cache/glove.6B.zip: 862MB [02:42, 5.32MB/s]                           \n",
            "100%|█████████▉| 399999/400000 [00:21<00:00, 18210.87it/s]\n"
          ]
        }
      ]
    },
    {
      "cell_type": "code",
      "source": [
        "def get_embedding_vector_from_word(word):\n",
        "  idx=glove.stoi[word]\n",
        "  emb=glove.vectors[idx]\n",
        "  return emb"
      ],
      "metadata": {
        "id": "1xAWGNOzghcz"
      },
      "execution_count": 6,
      "outputs": []
    },
    {
      "cell_type": "code",
      "source": [
        "def get_closest_words_from_word(word,n_c_words=5):\n",
        "  emb=get_embedding_vector_from_word(word)\n",
        "  dists=torch.norm(glove.vectors-emb,dim=1)\n",
        "  idx = torch.argsort(dists)\n",
        "  closest_words = [glove.itos[i] for i in idx]\n",
        "  return closest_words[1:n_c_words+1]"
      ],
      "metadata": {
        "id": "jZ25S7anhZsp"
      },
      "execution_count": 8,
      "outputs": []
    },
    {
      "cell_type": "code",
      "source": [
        "get_closest_words_from_word('cat')"
      ],
      "metadata": {
        "colab": {
          "base_uri": "https://localhost:8080/"
        },
        "id": "jIB-5DgliCuE",
        "outputId": "66c39b98-aa41-4619-fe8d-cca711462a73"
      },
      "execution_count": 9,
      "outputs": [
        {
          "output_type": "execute_result",
          "data": {
            "text/plain": [
              "['dog', 'rabbit', 'cats', 'monkey', 'puppy']"
            ]
          },
          "metadata": {},
          "execution_count": 9
        }
      ]
    },
    {
      "cell_type": "code",
      "source": [
        "words=[]\n",
        "categories=['numbers','algebra','music','science','technologie']\n",
        "df_word_cloud=pd.DataFrame(\n",
        "    {\n",
        "        'word':[],\n",
        "        'category':[]\n",
        "    }\n",
        ")"
      ],
      "metadata": {
        "id": "pvvTwGRJiOG8"
      },
      "execution_count": 10,
      "outputs": []
    },
    {
      "cell_type": "code",
      "source": [
        "e={}"
      ],
      "metadata": {
        "id": "6wV5RJ4CjTkV"
      },
      "execution_count": 12,
      "outputs": []
    },
    {
      "cell_type": "code",
      "source": [
        "for cat in categories:\n",
        "\n",
        "  closest_words=get_closest_words_from_word(cat,n_c_words=20)\n",
        "  temp=pd.DataFrame(\n",
        "      {\n",
        "          'word':closest_words,\n",
        "          'category':[cat]*len(closest_words)\n",
        "      }\n",
        "  )\n",
        "  df_word_cloud=pd.concat([df_word_cloud,temp])\n",
        "\n",
        "\n",
        ""
      ],
      "metadata": {
        "id": "88Df0atviwnS"
      },
      "execution_count": 14,
      "outputs": []
    },
    {
      "cell_type": "code",
      "source": [
        "df_word_cloud.head(30)"
      ],
      "metadata": {
        "colab": {
          "base_uri": "https://localhost:8080/",
          "height": 990
        },
        "id": "F7hGHYdsjqOR",
        "outputId": "4251ca4c-ccc8-404f-dd52-71461cb01796"
      },
      "execution_count": 17,
      "outputs": [
        {
          "output_type": "execute_result",
          "data": {
            "text/plain": [
              "              word category\n",
              "0           number  numbers\n",
              "1           though  numbers\n",
              "2         instance  numbers\n",
              "3             fact  numbers\n",
              "4         indicate  numbers\n",
              "5         moreover  numbers\n",
              "6       comparison  numbers\n",
              "7          figures  numbers\n",
              "8         although  numbers\n",
              "9           indeed  numbers\n",
              "10         example  numbers\n",
              "11            mean  numbers\n",
              "12      proportion  numbers\n",
              "13            same  numbers\n",
              "14           fewer  numbers\n",
              "15            seen  numbers\n",
              "16       indicates  numbers\n",
              "17           given  numbers\n",
              "18            ones  numbers\n",
              "19        counting  numbers\n",
              "0         algebras  algebra\n",
              "1         geometry  algebra\n",
              "2          heyting  algebra\n",
              "3      homological  algebra\n",
              "4     trigonometry  algebra\n",
              "5          boolean  algebra\n",
              "6      mathematics  algebra\n",
              "7        algebraic  algebra\n",
              "8   generalization  algebra\n",
              "9         calculus  algebra"
            ],
            "text/html": [
              "\n",
              "  <div id=\"df-64e8f4e7-8ab5-4881-9453-b89b47696a37\" class=\"colab-df-container\">\n",
              "    <div>\n",
              "<style scoped>\n",
              "    .dataframe tbody tr th:only-of-type {\n",
              "        vertical-align: middle;\n",
              "    }\n",
              "\n",
              "    .dataframe tbody tr th {\n",
              "        vertical-align: top;\n",
              "    }\n",
              "\n",
              "    .dataframe thead th {\n",
              "        text-align: right;\n",
              "    }\n",
              "</style>\n",
              "<table border=\"1\" class=\"dataframe\">\n",
              "  <thead>\n",
              "    <tr style=\"text-align: right;\">\n",
              "      <th></th>\n",
              "      <th>word</th>\n",
              "      <th>category</th>\n",
              "    </tr>\n",
              "  </thead>\n",
              "  <tbody>\n",
              "    <tr>\n",
              "      <th>0</th>\n",
              "      <td>number</td>\n",
              "      <td>numbers</td>\n",
              "    </tr>\n",
              "    <tr>\n",
              "      <th>1</th>\n",
              "      <td>though</td>\n",
              "      <td>numbers</td>\n",
              "    </tr>\n",
              "    <tr>\n",
              "      <th>2</th>\n",
              "      <td>instance</td>\n",
              "      <td>numbers</td>\n",
              "    </tr>\n",
              "    <tr>\n",
              "      <th>3</th>\n",
              "      <td>fact</td>\n",
              "      <td>numbers</td>\n",
              "    </tr>\n",
              "    <tr>\n",
              "      <th>4</th>\n",
              "      <td>indicate</td>\n",
              "      <td>numbers</td>\n",
              "    </tr>\n",
              "    <tr>\n",
              "      <th>5</th>\n",
              "      <td>moreover</td>\n",
              "      <td>numbers</td>\n",
              "    </tr>\n",
              "    <tr>\n",
              "      <th>6</th>\n",
              "      <td>comparison</td>\n",
              "      <td>numbers</td>\n",
              "    </tr>\n",
              "    <tr>\n",
              "      <th>7</th>\n",
              "      <td>figures</td>\n",
              "      <td>numbers</td>\n",
              "    </tr>\n",
              "    <tr>\n",
              "      <th>8</th>\n",
              "      <td>although</td>\n",
              "      <td>numbers</td>\n",
              "    </tr>\n",
              "    <tr>\n",
              "      <th>9</th>\n",
              "      <td>indeed</td>\n",
              "      <td>numbers</td>\n",
              "    </tr>\n",
              "    <tr>\n",
              "      <th>10</th>\n",
              "      <td>example</td>\n",
              "      <td>numbers</td>\n",
              "    </tr>\n",
              "    <tr>\n",
              "      <th>11</th>\n",
              "      <td>mean</td>\n",
              "      <td>numbers</td>\n",
              "    </tr>\n",
              "    <tr>\n",
              "      <th>12</th>\n",
              "      <td>proportion</td>\n",
              "      <td>numbers</td>\n",
              "    </tr>\n",
              "    <tr>\n",
              "      <th>13</th>\n",
              "      <td>same</td>\n",
              "      <td>numbers</td>\n",
              "    </tr>\n",
              "    <tr>\n",
              "      <th>14</th>\n",
              "      <td>fewer</td>\n",
              "      <td>numbers</td>\n",
              "    </tr>\n",
              "    <tr>\n",
              "      <th>15</th>\n",
              "      <td>seen</td>\n",
              "      <td>numbers</td>\n",
              "    </tr>\n",
              "    <tr>\n",
              "      <th>16</th>\n",
              "      <td>indicates</td>\n",
              "      <td>numbers</td>\n",
              "    </tr>\n",
              "    <tr>\n",
              "      <th>17</th>\n",
              "      <td>given</td>\n",
              "      <td>numbers</td>\n",
              "    </tr>\n",
              "    <tr>\n",
              "      <th>18</th>\n",
              "      <td>ones</td>\n",
              "      <td>numbers</td>\n",
              "    </tr>\n",
              "    <tr>\n",
              "      <th>19</th>\n",
              "      <td>counting</td>\n",
              "      <td>numbers</td>\n",
              "    </tr>\n",
              "    <tr>\n",
              "      <th>0</th>\n",
              "      <td>algebras</td>\n",
              "      <td>algebra</td>\n",
              "    </tr>\n",
              "    <tr>\n",
              "      <th>1</th>\n",
              "      <td>geometry</td>\n",
              "      <td>algebra</td>\n",
              "    </tr>\n",
              "    <tr>\n",
              "      <th>2</th>\n",
              "      <td>heyting</td>\n",
              "      <td>algebra</td>\n",
              "    </tr>\n",
              "    <tr>\n",
              "      <th>3</th>\n",
              "      <td>homological</td>\n",
              "      <td>algebra</td>\n",
              "    </tr>\n",
              "    <tr>\n",
              "      <th>4</th>\n",
              "      <td>trigonometry</td>\n",
              "      <td>algebra</td>\n",
              "    </tr>\n",
              "    <tr>\n",
              "      <th>5</th>\n",
              "      <td>boolean</td>\n",
              "      <td>algebra</td>\n",
              "    </tr>\n",
              "    <tr>\n",
              "      <th>6</th>\n",
              "      <td>mathematics</td>\n",
              "      <td>algebra</td>\n",
              "    </tr>\n",
              "    <tr>\n",
              "      <th>7</th>\n",
              "      <td>algebraic</td>\n",
              "      <td>algebra</td>\n",
              "    </tr>\n",
              "    <tr>\n",
              "      <th>8</th>\n",
              "      <td>generalization</td>\n",
              "      <td>algebra</td>\n",
              "    </tr>\n",
              "    <tr>\n",
              "      <th>9</th>\n",
              "      <td>calculus</td>\n",
              "      <td>algebra</td>\n",
              "    </tr>\n",
              "  </tbody>\n",
              "</table>\n",
              "</div>\n",
              "    <div class=\"colab-df-buttons\">\n",
              "\n",
              "  <div class=\"colab-df-container\">\n",
              "    <button class=\"colab-df-convert\" onclick=\"convertToInteractive('df-64e8f4e7-8ab5-4881-9453-b89b47696a37')\"\n",
              "            title=\"Convert this dataframe to an interactive table.\"\n",
              "            style=\"display:none;\">\n",
              "\n",
              "  <svg xmlns=\"http://www.w3.org/2000/svg\" height=\"24px\" viewBox=\"0 -960 960 960\">\n",
              "    <path d=\"M120-120v-720h720v720H120Zm60-500h600v-160H180v160Zm220 220h160v-160H400v160Zm0 220h160v-160H400v160ZM180-400h160v-160H180v160Zm440 0h160v-160H620v160ZM180-180h160v-160H180v160Zm440 0h160v-160H620v160Z\"/>\n",
              "  </svg>\n",
              "    </button>\n",
              "\n",
              "  <style>\n",
              "    .colab-df-container {\n",
              "      display:flex;\n",
              "      gap: 12px;\n",
              "    }\n",
              "\n",
              "    .colab-df-convert {\n",
              "      background-color: #E8F0FE;\n",
              "      border: none;\n",
              "      border-radius: 50%;\n",
              "      cursor: pointer;\n",
              "      display: none;\n",
              "      fill: #1967D2;\n",
              "      height: 32px;\n",
              "      padding: 0 0 0 0;\n",
              "      width: 32px;\n",
              "    }\n",
              "\n",
              "    .colab-df-convert:hover {\n",
              "      background-color: #E2EBFA;\n",
              "      box-shadow: 0px 1px 2px rgba(60, 64, 67, 0.3), 0px 1px 3px 1px rgba(60, 64, 67, 0.15);\n",
              "      fill: #174EA6;\n",
              "    }\n",
              "\n",
              "    .colab-df-buttons div {\n",
              "      margin-bottom: 4px;\n",
              "    }\n",
              "\n",
              "    [theme=dark] .colab-df-convert {\n",
              "      background-color: #3B4455;\n",
              "      fill: #D2E3FC;\n",
              "    }\n",
              "\n",
              "    [theme=dark] .colab-df-convert:hover {\n",
              "      background-color: #434B5C;\n",
              "      box-shadow: 0px 1px 3px 1px rgba(0, 0, 0, 0.15);\n",
              "      filter: drop-shadow(0px 1px 2px rgba(0, 0, 0, 0.3));\n",
              "      fill: #FFFFFF;\n",
              "    }\n",
              "  </style>\n",
              "\n",
              "    <script>\n",
              "      const buttonEl =\n",
              "        document.querySelector('#df-64e8f4e7-8ab5-4881-9453-b89b47696a37 button.colab-df-convert');\n",
              "      buttonEl.style.display =\n",
              "        google.colab.kernel.accessAllowed ? 'block' : 'none';\n",
              "\n",
              "      async function convertToInteractive(key) {\n",
              "        const element = document.querySelector('#df-64e8f4e7-8ab5-4881-9453-b89b47696a37');\n",
              "        const dataTable =\n",
              "          await google.colab.kernel.invokeFunction('convertToInteractive',\n",
              "                                                    [key], {});\n",
              "        if (!dataTable) return;\n",
              "\n",
              "        const docLinkHtml = 'Like what you see? Visit the ' +\n",
              "          '<a target=\"_blank\" href=https://colab.research.google.com/notebooks/data_table.ipynb>data table notebook</a>'\n",
              "          + ' to learn more about interactive tables.';\n",
              "        element.innerHTML = '';\n",
              "        dataTable['output_type'] = 'display_data';\n",
              "        await google.colab.output.renderOutput(dataTable, element);\n",
              "        const docLink = document.createElement('div');\n",
              "        docLink.innerHTML = docLinkHtml;\n",
              "        element.appendChild(docLink);\n",
              "      }\n",
              "    </script>\n",
              "  </div>\n",
              "\n",
              "\n",
              "<div id=\"df-f3c3e900-e968-4512-a03a-41d1af00f437\">\n",
              "  <button class=\"colab-df-quickchart\" onclick=\"quickchart('df-f3c3e900-e968-4512-a03a-41d1af00f437')\"\n",
              "            title=\"Suggest charts\"\n",
              "            style=\"display:none;\">\n",
              "\n",
              "<svg xmlns=\"http://www.w3.org/2000/svg\" height=\"24px\"viewBox=\"0 0 24 24\"\n",
              "     width=\"24px\">\n",
              "    <g>\n",
              "        <path d=\"M19 3H5c-1.1 0-2 .9-2 2v14c0 1.1.9 2 2 2h14c1.1 0 2-.9 2-2V5c0-1.1-.9-2-2-2zM9 17H7v-7h2v7zm4 0h-2V7h2v10zm4 0h-2v-4h2v4z\"/>\n",
              "    </g>\n",
              "</svg>\n",
              "  </button>\n",
              "\n",
              "<style>\n",
              "  .colab-df-quickchart {\n",
              "      --bg-color: #E8F0FE;\n",
              "      --fill-color: #1967D2;\n",
              "      --hover-bg-color: #E2EBFA;\n",
              "      --hover-fill-color: #174EA6;\n",
              "      --disabled-fill-color: #AAA;\n",
              "      --disabled-bg-color: #DDD;\n",
              "  }\n",
              "\n",
              "  [theme=dark] .colab-df-quickchart {\n",
              "      --bg-color: #3B4455;\n",
              "      --fill-color: #D2E3FC;\n",
              "      --hover-bg-color: #434B5C;\n",
              "      --hover-fill-color: #FFFFFF;\n",
              "      --disabled-bg-color: #3B4455;\n",
              "      --disabled-fill-color: #666;\n",
              "  }\n",
              "\n",
              "  .colab-df-quickchart {\n",
              "    background-color: var(--bg-color);\n",
              "    border: none;\n",
              "    border-radius: 50%;\n",
              "    cursor: pointer;\n",
              "    display: none;\n",
              "    fill: var(--fill-color);\n",
              "    height: 32px;\n",
              "    padding: 0;\n",
              "    width: 32px;\n",
              "  }\n",
              "\n",
              "  .colab-df-quickchart:hover {\n",
              "    background-color: var(--hover-bg-color);\n",
              "    box-shadow: 0 1px 2px rgba(60, 64, 67, 0.3), 0 1px 3px 1px rgba(60, 64, 67, 0.15);\n",
              "    fill: var(--button-hover-fill-color);\n",
              "  }\n",
              "\n",
              "  .colab-df-quickchart-complete:disabled,\n",
              "  .colab-df-quickchart-complete:disabled:hover {\n",
              "    background-color: var(--disabled-bg-color);\n",
              "    fill: var(--disabled-fill-color);\n",
              "    box-shadow: none;\n",
              "  }\n",
              "\n",
              "  .colab-df-spinner {\n",
              "    border: 2px solid var(--fill-color);\n",
              "    border-color: transparent;\n",
              "    border-bottom-color: var(--fill-color);\n",
              "    animation:\n",
              "      spin 1s steps(1) infinite;\n",
              "  }\n",
              "\n",
              "  @keyframes spin {\n",
              "    0% {\n",
              "      border-color: transparent;\n",
              "      border-bottom-color: var(--fill-color);\n",
              "      border-left-color: var(--fill-color);\n",
              "    }\n",
              "    20% {\n",
              "      border-color: transparent;\n",
              "      border-left-color: var(--fill-color);\n",
              "      border-top-color: var(--fill-color);\n",
              "    }\n",
              "    30% {\n",
              "      border-color: transparent;\n",
              "      border-left-color: var(--fill-color);\n",
              "      border-top-color: var(--fill-color);\n",
              "      border-right-color: var(--fill-color);\n",
              "    }\n",
              "    40% {\n",
              "      border-color: transparent;\n",
              "      border-right-color: var(--fill-color);\n",
              "      border-top-color: var(--fill-color);\n",
              "    }\n",
              "    60% {\n",
              "      border-color: transparent;\n",
              "      border-right-color: var(--fill-color);\n",
              "    }\n",
              "    80% {\n",
              "      border-color: transparent;\n",
              "      border-right-color: var(--fill-color);\n",
              "      border-bottom-color: var(--fill-color);\n",
              "    }\n",
              "    90% {\n",
              "      border-color: transparent;\n",
              "      border-bottom-color: var(--fill-color);\n",
              "    }\n",
              "  }\n",
              "</style>\n",
              "\n",
              "  <script>\n",
              "    async function quickchart(key) {\n",
              "      const quickchartButtonEl =\n",
              "        document.querySelector('#' + key + ' button');\n",
              "      quickchartButtonEl.disabled = true;  // To prevent multiple clicks.\n",
              "      quickchartButtonEl.classList.add('colab-df-spinner');\n",
              "      try {\n",
              "        const charts = await google.colab.kernel.invokeFunction(\n",
              "            'suggestCharts', [key], {});\n",
              "      } catch (error) {\n",
              "        console.error('Error during call to suggestCharts:', error);\n",
              "      }\n",
              "      quickchartButtonEl.classList.remove('colab-df-spinner');\n",
              "      quickchartButtonEl.classList.add('colab-df-quickchart-complete');\n",
              "    }\n",
              "    (() => {\n",
              "      let quickchartButtonEl =\n",
              "        document.querySelector('#df-f3c3e900-e968-4512-a03a-41d1af00f437 button');\n",
              "      quickchartButtonEl.style.display =\n",
              "        google.colab.kernel.accessAllowed ? 'block' : 'none';\n",
              "    })();\n",
              "  </script>\n",
              "</div>\n",
              "\n",
              "    </div>\n",
              "  </div>\n"
            ],
            "application/vnd.google.colaboratory.intrinsic+json": {
              "type": "dataframe",
              "variable_name": "df_word_cloud",
              "summary": "{\n  \"name\": \"df_word_cloud\",\n  \"rows\": 100,\n  \"fields\": [\n    {\n      \"column\": \"word\",\n      \"properties\": {\n        \"dtype\": \"string\",\n        \"num_unique_values\": 99,\n        \"samples\": [\n          \"studies\",\n          \"musical\",\n          \"jenoptik\"\n        ],\n        \"semantic_type\": \"\",\n        \"description\": \"\"\n      }\n    },\n    {\n      \"column\": \"category\",\n      \"properties\": {\n        \"dtype\": \"category\",\n        \"num_unique_values\": 5,\n        \"samples\": [\n          \"algebra\",\n          \"technologie\",\n          \"music\"\n        ],\n        \"semantic_type\": \"\",\n        \"description\": \"\"\n      }\n    }\n  ]\n}"
            }
          },
          "metadata": {},
          "execution_count": 17
        }
      ]
    },
    {
      "cell_type": "code",
      "source": [
        "#now get the 100 dimension for all words\n",
        "n_rows=df_word_cloud.shape[0]\n",
        "n_cols=100\n",
        "X=torch.empty((n_rows,n_cols))\n",
        "for i in range(n_rows):\n",
        "  X[i]=torch.tensor(get_embedding_vector_from_word(df_word_cloud.iloc[i,0]))"
      ],
      "metadata": {
        "colab": {
          "base_uri": "https://localhost:8080/"
        },
        "id": "1kHrVSG5knB3",
        "outputId": "1fd1c25a-dd4e-4df4-b2be-91298333142c"
      },
      "execution_count": 18,
      "outputs": [
        {
          "output_type": "stream",
          "name": "stderr",
          "text": [
            "<ipython-input-18-a5d05195896c>:6: UserWarning: To copy construct from a tensor, it is recommended to use sourceTensor.clone().detach() or sourceTensor.clone().detach().requires_grad_(True), rather than torch.tensor(sourceTensor).\n",
            "  X[i]=torch.tensor(get_embedding_vector_from_word(df_word_cloud.iloc[i,0]))\n"
          ]
        }
      ]
    },
    {
      "cell_type": "code",
      "source": [
        "X.shape"
      ],
      "metadata": {
        "colab": {
          "base_uri": "https://localhost:8080/"
        },
        "id": "Qz6JVU9SmYzd",
        "outputId": "dac01393-5083-4574-c73b-198cb012b263"
      },
      "execution_count": 19,
      "outputs": [
        {
          "output_type": "execute_result",
          "data": {
            "text/plain": [
              "torch.Size([100, 100])"
            ]
          },
          "metadata": {},
          "execution_count": 19
        }
      ]
    },
    {
      "cell_type": "code",
      "source": [
        "X"
      ],
      "metadata": {
        "colab": {
          "base_uri": "https://localhost:8080/"
        },
        "id": "wZYBHqQlmait",
        "outputId": "cb3d4cc6-7e1c-457c-fafa-7595e67aa4b9"
      },
      "execution_count": 20,
      "outputs": [
        {
          "output_type": "execute_result",
          "data": {
            "text/plain": [
              "tensor([[-0.4549,  0.7088,  0.0523,  ..., -0.4229,  0.5860, -0.4241],\n",
              "        [-0.2005,  0.3965,  0.4197,  ..., -0.0372,  0.1970,  0.0616],\n",
              "        [ 0.0109,  0.3941,  0.2963,  ..., -0.4874,  0.4445, -0.0539],\n",
              "        ...,\n",
              "        [ 0.6139, -0.1291, -0.2499,  ..., -0.5131, -0.3445, -0.0244],\n",
              "        [ 0.2780, -0.5111, -0.6573,  ..., -0.0907, -0.5802, -0.3480],\n",
              "        [ 0.1442, -0.3068, -0.1709,  ...,  0.1968, -0.2152, -0.2767]])"
            ]
          },
          "metadata": {},
          "execution_count": 20
        }
      ]
    },
    {
      "cell_type": "code",
      "source": [],
      "metadata": {
        "colab": {
          "base_uri": "https://localhost:8080/"
        },
        "id": "I1SCCMSlmcFD",
        "outputId": "3e03d426-171b-40d6-cc70-2ff149a4fa82"
      },
      "execution_count": 22,
      "outputs": [
        {
          "output_type": "execute_result",
          "data": {
            "text/plain": [
              "tensor([-2.0048e-01,  3.9650e-01,  4.1972e-01, -2.4869e-01, -1.8809e-01,\n",
              "         2.3210e-02,  1.2773e-02, -1.0152e-01,  3.3376e-01, -4.2778e-01,\n",
              "        -6.6133e-03, -4.0639e-02,  4.9387e-01, -2.2051e-01,  7.1245e-02,\n",
              "        -4.5311e-01, -2.4555e-01,  6.6647e-02, -8.8730e-02,  4.2404e-01,\n",
              "         3.0872e-01, -1.4332e-01,  1.7546e-01,  1.7099e-03,  1.0690e-01,\n",
              "        -1.3362e-01, -1.8550e-01, -7.7892e-01, -1.4670e-01, -1.3940e-01,\n",
              "         1.9643e-01,  3.8688e-01, -2.6543e-01, -1.9745e-01,  3.0245e-01,\n",
              "         5.6152e-01,  1.3029e-01, -2.1034e-02, -2.0259e-01, -2.7721e-01,\n",
              "        -2.9965e-01, -2.7535e-01,  2.6620e-01,  7.3788e-02, -4.3032e-02,\n",
              "        -4.6754e-01,  7.7579e-01, -3.6721e-01,  1.5260e-01, -7.0882e-01,\n",
              "         5.0964e-01, -1.1478e-01,  3.5220e-01,  9.7889e-01,  5.9517e-02,\n",
              "        -2.5459e+00, -2.5478e-01, -2.8866e-01,  1.2855e+00,  6.6514e-01,\n",
              "        -1.5178e-01,  7.2769e-01,  5.2103e-02,  6.8940e-02,  7.5834e-01,\n",
              "        -1.1260e-01,  4.3492e-01,  1.1862e-01,  1.8554e-01,  9.2965e-02,\n",
              "        -9.9102e-02, -1.3945e-01,  4.2443e-02, -8.9807e-02,  1.9579e-01,\n",
              "        -2.3344e-02, -8.5098e-02, -1.6619e-01, -7.7477e-01, -1.7308e-01,\n",
              "         4.1435e-01, -2.0533e-01, -5.6225e-01, -1.2811e-01, -1.5789e+00,\n",
              "        -3.6676e-01, -8.4803e-02, -1.5447e-01, -3.8024e-01, -7.9752e-02,\n",
              "        -6.9279e-03, -5.9207e-01, -2.6774e-01,  1.7247e-01, -6.4725e-01,\n",
              "         1.2382e-01, -5.6479e-01, -3.7167e-02,  1.9696e-01,  6.1643e-02])"
            ]
          },
          "metadata": {},
          "execution_count": 22
        }
      ]
    },
    {
      "cell_type": "code",
      "source": [
        "tnse=TSNE(n_components=2)\n",
        "X_tnse=tnse.fit_transform(X.cpu().numpy())"
      ],
      "metadata": {
        "id": "02jw-sSXmizr"
      },
      "execution_count": 24,
      "outputs": []
    },
    {
      "cell_type": "code",
      "source": [
        "X_tnse"
      ],
      "metadata": {
        "colab": {
          "base_uri": "https://localhost:8080/"
        },
        "id": "62CmZb0Ym9_6",
        "outputId": "3026fd16-95bd-43dc-f654-0ccc1a836ea6"
      },
      "execution_count": 25,
      "outputs": [
        {
          "output_type": "execute_result",
          "data": {
            "text/plain": [
              "array([[-6.130604  ,  1.4624473 ],\n",
              "       [-5.246623  ,  1.70452   ],\n",
              "       [-4.5664864 ,  1.8339443 ],\n",
              "       [-4.9398584 ,  1.689958  ],\n",
              "       [-3.8774753 ,  1.1199598 ],\n",
              "       [-4.3539553 ,  1.3708863 ],\n",
              "       [-4.114744  ,  1.705966  ],\n",
              "       [-6.1187406 ,  0.90090746],\n",
              "       [-5.2830715 ,  1.8398587 ],\n",
              "       [-4.7481756 ,  1.5155725 ],\n",
              "       [-4.7024555 ,  2.1325204 ],\n",
              "       [-4.708477  ,  0.9776625 ],\n",
              "       [-4.106924  ,  0.3722925 ],\n",
              "       [-5.476912  ,  2.0938468 ],\n",
              "       [-5.46753   ,  0.23252098],\n",
              "       [-5.5604815 ,  1.4667726 ],\n",
              "       [-3.7148962 ,  1.082723  ],\n",
              "       [-5.274676  ,  2.2401204 ],\n",
              "       [-5.35608   ,  0.9957624 ],\n",
              "       [-4.751802  ,  0.24336803],\n",
              "       [ 3.5838082 , -1.095851  ],\n",
              "       [ 1.2501315 ,  1.0964848 ],\n",
              "       [ 1.7021856 , -2.1396358 ],\n",
              "       [ 1.0601106 , -1.5394233 ],\n",
              "       [ 0.65100056,  0.9852212 ],\n",
              "       [ 3.4893434 , -0.7863529 ],\n",
              "       [-0.6910131 ,  4.0641994 ],\n",
              "       [ 2.0339978 ,  1.0386289 ],\n",
              "       [ 1.5889308 ,  0.4104493 ],\n",
              "       [ 0.5948168 ,  2.0109518 ],\n",
              "       [ 2.7232668 , -1.394583  ],\n",
              "       [ 2.743726  ,  0.10082336],\n",
              "       [ 2.1356912 , -0.5383407 ],\n",
              "       [ 1.5152395 ,  1.237455  ],\n",
              "       [ 3.1464956 , -1.4633791 ],\n",
              "       [ 2.8386667 , -0.3901365 ],\n",
              "       [ 2.2603068 ,  0.66851234],\n",
              "       [ 2.553573  , -0.1585255 ],\n",
              "       [ 2.1174583 , -1.1717091 ],\n",
              "       [ 2.2417479 ,  0.46620739],\n",
              "       [-8.131289  ,  3.657248  ],\n",
              "       [-8.20922   ,  3.7786703 ],\n",
              "       [-9.316478  ,  3.5842867 ],\n",
              "       [-9.171602  ,  4.3158464 ],\n",
              "       [-8.720849  ,  2.5573416 ],\n",
              "       [-8.32263   ,  4.4033937 ],\n",
              "       [-8.503944  ,  4.8244553 ],\n",
              "       [-8.148503  ,  3.0202801 ],\n",
              "       [-7.811123  ,  4.535237  ],\n",
              "       [-6.732089  ,  4.1821656 ],\n",
              "       [-7.493866  ,  4.6312013 ],\n",
              "       [-9.239443  ,  3.2161179 ],\n",
              "       [-9.117715  ,  4.501969  ],\n",
              "       [-8.647892  ,  2.363594  ],\n",
              "       [-9.524204  ,  3.3336108 ],\n",
              "       [-9.181473  ,  3.8520734 ],\n",
              "       [-8.254511  ,  3.5333514 ],\n",
              "       [-9.290953  ,  2.8635361 ],\n",
              "       [-7.6085477 ,  3.197288  ],\n",
              "       [-7.942695  ,  4.3204575 ],\n",
              "       [-1.9755677 ,  4.896958  ],\n",
              "       [-0.26765996,  4.2982326 ],\n",
              "       [-0.6910131 ,  4.0641994 ],\n",
              "       [-3.1062446 ,  4.8945055 ],\n",
              "       [-2.738894  ,  5.316225  ],\n",
              "       [-0.39722747,  4.7793584 ],\n",
              "       [-1.0450524 ,  5.1643586 ],\n",
              "       [-3.3948784 ,  5.0305333 ],\n",
              "       [-3.675886  ,  4.71844   ],\n",
              "       [-1.5440116 ,  4.2745395 ],\n",
              "       [-3.4002938 ,  4.767138  ],\n",
              "       [-1.3063523 ,  5.5194173 ],\n",
              "       [-1.8933926 ,  4.0024867 ],\n",
              "       [-1.1382052 ,  5.1496267 ],\n",
              "       [-2.3884518 ,  4.019729  ],\n",
              "       [-0.15371078,  4.561729  ],\n",
              "       [-0.4447494 ,  3.603734  ],\n",
              "       [-1.9720476 ,  4.37179   ],\n",
              "       [-1.3932244 ,  5.7415895 ],\n",
              "       [-1.067013  ,  5.0460362 ],\n",
              "       [ 0.9106251 , -3.2058146 ],\n",
              "       [-0.2984804 , -2.1472585 ],\n",
              "       [-0.3205107 , -3.8599494 ],\n",
              "       [-0.73566586, -2.3017204 ],\n",
              "       [ 0.6561714 , -3.3853066 ],\n",
              "       [ 0.43213326, -2.589039  ],\n",
              "       [-0.1669012 , -2.9203904 ],\n",
              "       [ 0.6250975 , -2.8045177 ],\n",
              "       [-0.12752661, -2.6568098 ],\n",
              "       [ 0.14717333, -2.762585  ],\n",
              "       [ 0.13966042, -3.9742892 ],\n",
              "       [ 0.3492053 , -3.2917342 ],\n",
              "       [-0.15479031, -3.391984  ],\n",
              "       [-0.6204908 , -3.253951  ],\n",
              "       [-0.7403728 , -3.738417  ],\n",
              "       [-0.4399006 , -2.9133546 ],\n",
              "       [ 0.12215089, -2.1450834 ],\n",
              "       [ 0.2992006 , -3.7712705 ],\n",
              "       [ 0.5401113 , -3.8936942 ],\n",
              "       [ 0.32666332, -2.7213948 ]], dtype=float32)"
            ]
          },
          "metadata": {},
          "execution_count": 25
        }
      ]
    },
    {
      "cell_type": "code",
      "source": [],
      "metadata": {
        "id": "MHk89u9dn8IZ"
      },
      "execution_count": null,
      "outputs": []
    },
    {
      "cell_type": "code",
      "source": [
        "df_word_cloud['x']=X_tnse[:,0]\n",
        "df_word_cloud['y']=X_tnse[:,1]"
      ],
      "metadata": {
        "id": "b4oMjn4ZnF-8"
      },
      "execution_count": 26,
      "outputs": []
    },
    {
      "cell_type": "code",
      "source": [
        "from plotnine import ggplot ,geom_text,aes"
      ],
      "metadata": {
        "id": "AagvF4lUnLrK"
      },
      "execution_count": 29,
      "outputs": []
    },
    {
      "cell_type": "code",
      "source": [
        "ggplot(data=df_word_cloud.sample(25))+aes(x='x',y='y',label='word',color='category')+geom_text()"
      ],
      "metadata": {
        "colab": {
          "base_uri": "https://localhost:8080/",
          "height": 497
        },
        "id": "1P-Z3ZxNndj7",
        "outputId": "38297490-eab9-494e-ba42-6997b8aa55b4"
      },
      "execution_count": 31,
      "outputs": [
        {
          "output_type": "display_data",
          "data": {
            "image/png": "[encoded data removed]"
          },
          "metadata": {
            "image/png": {
              "width": 640,
              "height": 480
            }
          }
        }
      ]
    },
    {
      "cell_type": "code",
      "source": [],
      "metadata": {
        "id": "ZjWNaDKzoHuH"
      },
      "execution_count": null,
      "outputs": []
    }
  ]
}