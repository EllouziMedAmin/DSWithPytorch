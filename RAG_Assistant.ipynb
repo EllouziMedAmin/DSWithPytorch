{
  "nbformat": 4,
  "nbformat_minor": 0,
  "metadata": {
    "colab": {
      "provenance": [],
      "gpuType": "T4",
      "authorship_tag": "ABX9TyNwYvpXr+q4YPbAvWtx3eo8",
      "include_colab_link": true
    },
    "kernelspec": {
      "name": "python3",
      "display_name": "Python 3"
    },
    "language_info": {
      "name": "python"
    },
    "accelerator": "GPU"
  },
  "cells": [
    {
      "cell_type": "markdown",
      "metadata": {
        "id": "view-in-github",
        "colab_type": "text"
      },
      "source": [
        "<a href=\"https://colab.research.google.com/github/EllouziMedAmin/DSWithPytorch/blob/main/RAG_Assistant.ipynb\" target=\"_parent\"><img src=\"https://colab.research.google.com/assets/colab-badge.svg\" alt=\"Open In Colab\"/></a>"
      ]
    },
    {
      "cell_type": "code",
      "execution_count": null,
      "metadata": {
        "id": "mNVh_gnSGvxV"
      },
      "outputs": [],
      "source": [
        "!apt-get update\n",
        "!apt-get install -y curl git"
      ]
    },
    {
      "cell_type": "code",
      "source": [
        "!curl -fsSL https://ollama.com/install.sh | sh"
      ],
      "metadata": {
        "id": "hk-t3TyRG2Jw"
      },
      "execution_count": null,
      "outputs": []
    },
    {
      "cell_type": "code",
      "source": [
        "!nohup ollama serve > /dev/null 2>&1 &"
      ],
      "metadata": {
        "id": "CFADCH7kG4Wq"
      },
      "execution_count": 3,
      "outputs": []
    },
    {
      "cell_type": "code",
      "source": [
        "!ollama pull llama3.2"
      ],
      "metadata": {
        "id": "t-6t4oTqG-vh"
      },
      "execution_count": null,
      "outputs": []
    },
    {
      "cell_type": "code",
      "source": [
        "!ollama list"
      ],
      "metadata": {
        "colab": {
          "base_uri": "https://localhost:8080/"
        },
        "id": "KpU_ggYoG-lI",
        "outputId": "386c2758-5ddc-4231-c440-32de9d9b8b7b"
      },
      "execution_count": 5,
      "outputs": [
        {
          "output_type": "stream",
          "name": "stdout",
          "text": [
            "NAME               ID              SIZE      MODIFIED               \n",
            "llama3.2:latest    a80c4f17acd5    2.0 GB    Less than a second ago    \n"
          ]
        }
      ]
    },
    {
      "cell_type": "code",
      "source": [
        "!ollama pull mxbai-embed-large"
      ],
      "metadata": {
        "id": "LgIhK2WbLZ4D"
      },
      "execution_count": null,
      "outputs": []
    },
    {
      "cell_type": "code",
      "source": [
        "!pip install langchain-ollama"
      ],
      "metadata": {
        "id": "xAk4U_EyHW4F"
      },
      "execution_count": null,
      "outputs": []
    },
    {
      "cell_type": "code",
      "source": [
        "!pip install PyPDF2"
      ],
      "metadata": {
        "id": "QiA2lAeGJY55"
      },
      "execution_count": null,
      "outputs": []
    },
    {
      "cell_type": "code",
      "source": [
        "!pip install faiss-cpu langchain sentence-transformers"
      ],
      "metadata": {
        "id": "8Al9ym5UKX8f"
      },
      "execution_count": null,
      "outputs": []
    },
    {
      "cell_type": "code",
      "source": [
        "!pip install -U langchain-community"
      ],
      "metadata": {
        "id": "E8sBmYb3LkhY"
      },
      "execution_count": null,
      "outputs": []
    },
    {
      "cell_type": "code",
      "source": [
        "!pip install gradio"
      ],
      "metadata": {
        "id": "XrrbMlxRSOLf"
      },
      "execution_count": null,
      "outputs": []
    },
    {
      "cell_type": "code",
      "source": [
        "from PyPDF2 import PdfReader\n",
        "from langchain_ollama.llms import OllamaLLM\n",
        "from langchain_core.prompts import ChatPromptTemplate\n",
        "from langchain.text_splitter import RecursiveCharacterTextSplitter\n",
        "from langchain.vectorstores import FAISS\n",
        "import requests\n",
        "from langchain.embeddings import OllamaEmbeddings\n",
        "import gradio as gr"
      ],
      "metadata": {
        "id": "PKjx40CYHDjF"
      },
      "execution_count": 12,
      "outputs": []
    },
    {
      "cell_type": "markdown",
      "source": [
        "###test"
      ],
      "metadata": {
        "id": "ymGvwBWgJMNp"
      }
    },
    {
      "cell_type": "code",
      "source": [
        "model = OllamaLLM(model=\"llama3.2\")\n",
        "\n",
        "template = \"\"\"\n",
        "You are an exeprt in answering questions about a pizza restaurant\n",
        "\n",
        "Here are some relevant reviews: {reviews}\n",
        "\n",
        "Here is the question to answer: {question}\n",
        "\"\"\"\n",
        "prompt = ChatPromptTemplate.from_template(template)\n",
        "chain = prompt | model"
      ],
      "metadata": {
        "id": "4sNffZGgHWFl"
      },
      "execution_count": 9,
      "outputs": []
    },
    {
      "cell_type": "code",
      "source": [
        "while True:\n",
        "    print(\"\\n\\n-------------------------------\")\n",
        "    question = input(\"Ask your question (q to quit): \")\n",
        "    print(\"\\n\\n\")\n",
        "    if question == \"q\":\n",
        "        break\n",
        "\n",
        "    reviews = []\n",
        "    result = chain.invoke({\"reviews\": reviews, \"question\": question})\n",
        "    print(result)"
      ],
      "metadata": {
        "colab": {
          "base_uri": "https://localhost:8080/"
        },
        "id": "N_T839c9HnS0",
        "outputId": "f17217ae-5713-4dbc-ea34-dd96e5d14501"
      },
      "execution_count": 10,
      "outputs": [
        {
          "output_type": "stream",
          "name": "stdout",
          "text": [
            "\n",
            "\n",
            "-------------------------------\n",
            "Ask your question (q to quit): whats the best pizza restaurant in town\n",
            "\n",
            "\n",
            "\n",
            "As an expert in answering questions about pizza restaurants, I can give you some valuable insights based on popular reviews.\n",
            "\n",
            "While opinions may vary, I'd recommend \"Bella Vita\" as one of the top-rated pizza restaurants in town. With a 4.9-star rating and over 500 glowing reviews, it's clear that they're serving up delicious pies that satisfy even the most discerning palates.\n",
            "\n",
            "According to reviewers, Bella Vita offers a unique combination of traditional Italian flavors with modern twists and creative toppings. Many have praised their crispy crusts, flavorful sauces, and generous portions of melted mozzarella cheese.\n",
            "\n",
            "Some reviewers have specifically highlighted the restaurant's attention to detail, from the cozy atmosphere to the friendly service. Whether you're in the mood for classic margherita or something more adventurous, like their signature \"Fig and Prosciutto\" pizza, Bella Vita is sure to hit the spot.\n",
            "\n",
            "Of course, there are other excellent pizza restaurants in town worth exploring as well. But based on the reviews alone, I'd say Bella Vita is definitely a top contender for the best pizza restaurant in town.\n",
            "\n",
            "\n",
            "-------------------------------\n",
            "Ask your question (q to quit): q\n",
            "\n",
            "\n",
            "\n"
          ]
        }
      ]
    },
    {
      "cell_type": "code",
      "source": [],
      "metadata": {
        "id": "yCUo6QPuHu2L"
      },
      "execution_count": null,
      "outputs": []
    },
    {
      "cell_type": "markdown",
      "source": [
        "### RAG local"
      ],
      "metadata": {
        "id": "lEh2zgzWJPWh"
      }
    },
    {
      "cell_type": "code",
      "source": [
        "def extract_text_from_pdf(pdf_path):\n",
        "    reader = PdfReader(pdf_path)\n",
        "    return \"\\n\".join([page.extract_text() for page in reader.pages if page.extract_text()])"
      ],
      "metadata": {
        "id": "P2WhA5q-JUFb"
      },
      "execution_count": 14,
      "outputs": []
    },
    {
      "cell_type": "code",
      "source": [
        "# Chunking\n",
        "def chunk_text(text, chunk_size=500, chunk_overlap=50):\n",
        "    splitter = RecursiveCharacterTextSplitter(chunk_size=chunk_size, chunk_overlap=chunk_overlap)\n",
        "    return splitter.split_text(text)\n",
        "\n",
        "# Upload and process\n",
        "from google.colab import files\n",
        "\n",
        "uploaded_files = files.upload()\n",
        "pdf_paths = list(uploaded_files.keys())  # List of uploaded filenames\n",
        "print(\"Uploaded PDFs:\", pdf_paths)\n"
      ],
      "metadata": {
        "colab": {
          "base_uri": "https://localhost:8080/",
          "height": 92
        },
        "id": "pYdvfh4YJiFW",
        "outputId": "e741c719-ca31-4908-fea5-675b186ee85c"
      },
      "execution_count": 17,
      "outputs": [
        {
          "output_type": "display_data",
          "data": {
            "text/plain": [
              "<IPython.core.display.HTML object>"
            ],
            "text/html": [
              "\n",
              "     <input type=\"file\" id=\"files-c14ec278-7545-4620-85f9-3df93b58a1d6\" name=\"files[]\" multiple disabled\n",
              "        style=\"border:none\" />\n",
              "     <output id=\"result-c14ec278-7545-4620-85f9-3df93b58a1d6\">\n",
              "      Upload widget is only available when the cell has been executed in the\n",
              "      current browser session. Please rerun this cell to enable.\n",
              "      </output>\n",
              "      <script>// Copyright 2017 Google LLC\n",
              "//\n",
              "// Licensed under the Apache License, Version 2.0 (the \"License\");\n",
              "// you may not use this file except in compliance with the License.\n",
              "// You may obtain a copy of the License at\n",
              "//\n",
              "//      http://www.apache.org/licenses/LICENSE-2.0\n",
              "//\n",
              "// Unless required by applicable law or agreed to in writing, software\n",
              "// distributed under the License is distributed on an \"AS IS\" BASIS,\n",
              "// WITHOUT WARRANTIES OR CONDITIONS OF ANY KIND, either express or implied.\n",
              "// See the License for the specific language governing permissions and\n",
              "// limitations under the License.\n",
              "\n",
              "/**\n",
              " * @fileoverview Helpers for google.colab Python module.\n",
              " */\n",
              "(function(scope) {\n",
              "function span(text, styleAttributes = {}) {\n",
              "  const element = document.createElement('span');\n",
              "  element.textContent = text;\n",
              "  for (const key of Object.keys(styleAttributes)) {\n",
              "    element.style[key] = styleAttributes[key];\n",
              "  }\n",
              "  return element;\n",
              "}\n",
              "\n",
              "// Max number of bytes which will be uploaded at a time.\n",
              "const MAX_PAYLOAD_SIZE = 100 * 1024;\n",
              "\n",
              "function _uploadFiles(inputId, outputId) {\n",
              "  const steps = uploadFilesStep(inputId, outputId);\n",
              "  const outputElement = document.getElementById(outputId);\n",
              "  // Cache steps on the outputElement to make it available for the next call\n",
              "  // to uploadFilesContinue from Python.\n",
              "  outputElement.steps = steps;\n",
              "\n",
              "  return _uploadFilesContinue(outputId);\n",
              "}\n",
              "\n",
              "// This is roughly an async generator (not supported in the browser yet),\n",
              "// where there are multiple asynchronous steps and the Python side is going\n",
              "// to poll for completion of each step.\n",
              "// This uses a Promise to block the python side on completion of each step,\n",
              "// then passes the result of the previous step as the input to the next step.\n",
              "function _uploadFilesContinue(outputId) {\n",
              "  const outputElement = document.getElementById(outputId);\n",
              "  const steps = outputElement.steps;\n",
              "\n",
              "  const next = steps.next(outputElement.lastPromiseValue);\n",
              "  return Promise.resolve(next.value.promise).then((value) => {\n",
              "    // Cache the last promise value to make it available to the next\n",
              "    // step of the generator.\n",
              "    outputElement.lastPromiseValue = value;\n",
              "    return next.value.response;\n",
              "  });\n",
              "}\n",
              "\n",
              "/**\n",
              " * Generator function which is called between each async step of the upload\n",
              " * process.\n",
              " * @param {string} inputId Element ID of the input file picker element.\n",
              " * @param {string} outputId Element ID of the output display.\n",
              " * @return {!Iterable<!Object>} Iterable of next steps.\n",
              " */\n",
              "function* uploadFilesStep(inputId, outputId) {\n",
              "  const inputElement = document.getElementById(inputId);\n",
              "  inputElement.disabled = false;\n",
              "\n",
              "  const outputElement = document.getElementById(outputId);\n",
              "  outputElement.innerHTML = '';\n",
              "\n",
              "  const pickedPromise = new Promise((resolve) => {\n",
              "    inputElement.addEventListener('change', (e) => {\n",
              "      resolve(e.target.files);\n",
              "    });\n",
              "  });\n",
              "\n",
              "  const cancel = document.createElement('button');\n",
              "  inputElement.parentElement.appendChild(cancel);\n",
              "  cancel.textContent = 'Cancel upload';\n",
              "  const cancelPromise = new Promise((resolve) => {\n",
              "    cancel.onclick = () => {\n",
              "      resolve(null);\n",
              "    };\n",
              "  });\n",
              "\n",
              "  // Wait for the user to pick the files.\n",
              "  const files = yield {\n",
              "    promise: Promise.race([pickedPromise, cancelPromise]),\n",
              "    response: {\n",
              "      action: 'starting',\n",
              "    }\n",
              "  };\n",
              "\n",
              "  cancel.remove();\n",
              "\n",
              "  // Disable the input element since further picks are not allowed.\n",
              "  inputElement.disabled = true;\n",
              "\n",
              "  if (!files) {\n",
              "    return {\n",
              "      response: {\n",
              "        action: 'complete',\n",
              "      }\n",
              "    };\n",
              "  }\n",
              "\n",
              "  for (const file of files) {\n",
              "    const li = document.createElement('li');\n",
              "    li.append(span(file.name, {fontWeight: 'bold'}));\n",
              "    li.append(span(\n",
              "        `(${file.type || 'n/a'}) - ${file.size} bytes, ` +\n",
              "        `last modified: ${\n",
              "            file.lastModifiedDate ? file.lastModifiedDate.toLocaleDateString() :\n",
              "                                    'n/a'} - `));\n",
              "    const percent = span('0% done');\n",
              "    li.appendChild(percent);\n",
              "\n",
              "    outputElement.appendChild(li);\n",
              "\n",
              "    const fileDataPromise = new Promise((resolve) => {\n",
              "      const reader = new FileReader();\n",
              "      reader.onload = (e) => {\n",
              "        resolve(e.target.result);\n",
              "      };\n",
              "      reader.readAsArrayBuffer(file);\n",
              "    });\n",
              "    // Wait for the data to be ready.\n",
              "    let fileData = yield {\n",
              "      promise: fileDataPromise,\n",
              "      response: {\n",
              "        action: 'continue',\n",
              "      }\n",
              "    };\n",
              "\n",
              "    // Use a chunked sending to avoid message size limits. See b/62115660.\n",
              "    let position = 0;\n",
              "    do {\n",
              "      const length = Math.min(fileData.byteLength - position, MAX_PAYLOAD_SIZE);\n",
              "      const chunk = new Uint8Array(fileData, position, length);\n",
              "      position += length;\n",
              "\n",
              "      const base64 = btoa(String.fromCharCode.apply(null, chunk));\n",
              "      yield {\n",
              "        response: {\n",
              "          action: 'append',\n",
              "          file: file.name,\n",
              "          data: base64,\n",
              "        },\n",
              "      };\n",
              "\n",
              "      let percentDone = fileData.byteLength === 0 ?\n",
              "          100 :\n",
              "          Math.round((position / fileData.byteLength) * 100);\n",
              "      percent.textContent = `${percentDone}% done`;\n",
              "\n",
              "    } while (position < fileData.byteLength);\n",
              "  }\n",
              "\n",
              "  // All done.\n",
              "  yield {\n",
              "    response: {\n",
              "      action: 'complete',\n",
              "    }\n",
              "  };\n",
              "}\n",
              "\n",
              "scope.google = scope.google || {};\n",
              "scope.google.colab = scope.google.colab || {};\n",
              "scope.google.colab._files = {\n",
              "  _uploadFiles,\n",
              "  _uploadFilesContinue,\n",
              "};\n",
              "})(self);\n",
              "</script> "
            ]
          },
          "metadata": {}
        },
        {
          "output_type": "stream",
          "name": "stdout",
          "text": [
            "Saving Assignment Description 202504.pdf to Assignment Description 202504.pdf\n",
            "Number of chunks: 17\n"
          ]
        }
      ]
    },
    {
      "cell_type": "code",
      "source": [
        "# Extract text from all PDFs\n",
        "all_texts = []\n",
        "for path in pdf_paths:\n",
        "    text = extract_text_from_pdf(path)\n",
        "    all_texts.append(text)\n",
        "\n",
        "# Combine all extracted texts\n",
        "full_text = \"\\n\".join(all_texts)\n",
        "\n",
        "# Chunk combined text\n",
        "splitter = RecursiveCharacterTextSplitter(chunk_size=500, chunk_overlap=50)\n",
        "chunks = splitter.split_text(full_text)\n",
        "\n",
        "print(f\"Total chunks created: {len(chunks)}\")"
      ],
      "metadata": {
        "id": "KONNflHMRBK9"
      },
      "execution_count": null,
      "outputs": []
    },
    {
      "cell_type": "code",
      "source": [
        "# Use Ollama-based embedding model\n",
        "embedding_model = OllamaEmbeddings(model=\"mxbai-embed-large\")\n",
        "\n",
        "# Create the vector store\n",
        "vector_db = FAISS.from_texts(chunks, embedding_model)\n",
        "vector_db.save_local(\"vectorstore\")\n"
      ],
      "metadata": {
        "colab": {
          "base_uri": "https://localhost:8080/"
        },
        "id": "0fo--XQYK9jg",
        "outputId": "d0cdedb1-248a-4831-f732-db06a6beafe2"
      },
      "execution_count": 22,
      "outputs": [
        {
          "output_type": "stream",
          "name": "stderr",
          "text": [
            "<ipython-input-22-da7fcf6cb73f>:2: LangChainDeprecationWarning: The class `OllamaEmbeddings` was deprecated in LangChain 0.3.1 and will be removed in 1.0.0. An updated version of the class exists in the :class:`~langchain-ollama package and should be used instead. To use it run `pip install -U :class:`~langchain-ollama` and import as `from :class:`~langchain_ollama import OllamaEmbeddings``.\n",
            "  embedding_model = OllamaEmbeddings(model=\"mxbai-embed-large\")\n"
          ]
        }
      ]
    },
    {
      "cell_type": "code",
      "source": [
        "# Load for querying later\n",
        "# Load FAISS vector store and allow dangerous deserialization (safe in this case)\n",
        "vector_db = FAISS.load_local(\"vectorstore\", embedding_model, allow_dangerous_deserialization=True)"
      ],
      "metadata": {
        "id": "3FC4hM1CLzQf"
      },
      "execution_count": 24,
      "outputs": []
    },
    {
      "cell_type": "code",
      "source": [
        "def retrieve_context(query, k=3):\n",
        "    docs = vector_db.similarity_search(query, k=k)\n",
        "    return \"\\n\\n\".join(doc.page_content for doc in docs)"
      ],
      "metadata": {
        "id": "UOQvTdoTMCUF"
      },
      "execution_count": 25,
      "outputs": []
    },
    {
      "cell_type": "code",
      "source": [
        "def ask_ollama(question, context, model=\"llama3.2\"):\n",
        "    prompt = f\"\"\"You are a helpful assistant for a course assignment. Use the context below to answer the question.\n",
        "\n",
        "Context:\n",
        "{context}\n",
        "\n",
        "Question: {question}\n",
        "\n",
        "Answer:\"\"\"\n",
        "\n",
        "    response = requests.post(\n",
        "        \"http://localhost:11434/api/generate\",\n",
        "        json={\"model\": model, \"prompt\": prompt, \"stream\": False}\n",
        "    )\n",
        "\n",
        "    return response.json()[\"response\"]\n"
      ],
      "metadata": {
        "id": "_rwj25vJMO8z"
      },
      "execution_count": 29,
      "outputs": []
    },
    {
      "cell_type": "code",
      "source": [
        "user_question = \"can u explain the topic of the assignment?\"\n",
        "context = retrieve_context(user_question)\n",
        "answer = ask_ollama(user_question, context)\n",
        "\n",
        "print(\"Answer:\\n\", answer)\n"
      ],
      "metadata": {
        "colab": {
          "base_uri": "https://localhost:8080/"
        },
        "id": "f8k_H7gfMjW5",
        "outputId": "da221c95-af80-4b01-f57d-8c25ec14833d"
      },
      "execution_count": 30,
      "outputs": [
        {
          "output_type": "stream",
          "name": "stdout",
          "text": [
            "Answer:\n",
            " The topic of this assignment appears to be related to integrity and anti-corruption in daily activities and organizations.\n",
            "\n",
            "Specifically, it seems that the assignment is focused on explaining three key concepts:\n",
            "\n",
            "1. Integrity and its importance in daily life (CLO 1).\n",
            "2. Forms of corruption and abuse of power in daily activities and organizations (CLO 2).\n",
            "3. The values and principles of integrity and anti-corruption in current issues (CLO 3).\n",
            "\n",
            "The assignment is likely asking students to demonstrate their understanding of these concepts through a written submission, such as an essay or report.\n",
            "\n",
            "Please let me know if you need help with the next step of the assignment!\n"
          ]
        }
      ]
    },
    {
      "cell_type": "markdown",
      "source": [
        "### Deployment"
      ],
      "metadata": {
        "id": "oCHCiLdRbrGa"
      }
    },
    {
      "cell_type": "code",
      "source": [
        "def rag_pipeline(question, files):\n",
        "    # Process uploaded files\n",
        "    texts = []\n",
        "    for file in files:\n",
        "        reader = PdfReader(file.name)\n",
        "        pdf_text = \"\\n\".join(page.extract_text() for page in reader.pages)\n",
        "        texts.append(pdf_text)\n",
        "\n",
        "    full_text = \"\\n\".join(texts)\n",
        "    chunks = RecursiveCharacterTextSplitter(chunk_size=500, chunk_overlap=50).split_text(full_text)\n",
        "\n",
        "    # Vector DB\n",
        "    embedding_model = OllamaEmbeddings(model=\"mxbai-embed-large\")\n",
        "    vector_db = FAISS.from_texts(chunks, embedding_model)\n",
        "\n",
        "    # Query\n",
        "    context = \"\\n\\n\".join([doc.page_content for doc in vector_db.similarity_search(question, k=3)])\n",
        "\n",
        "    # Ask Ollama\n",
        "    response = requests.post(\n",
        "        \"http://localhost:11434/api/generate\",\n",
        "        json={\"model\": \"llama3.2\", \"prompt\": f\"{context}\\n\\nQuestion: {question}\\nAnswer:\", \"stream\": False}\n",
        "    )\n",
        "\n",
        "    return response.json()[\"response\"]\n",
        "\n",
        "demo = gr.Interface(\n",
        "    fn=rag_pipeline,\n",
        "    inputs=[gr.Textbox(label=\"Your Question\"), gr.File(file_types=[\".pdf\"], label=\"Upload Course PDFs\", file_count=\"multiple\")],\n",
        "    outputs=\"text\",\n",
        "    title=\"Course RAG Assistant\",\n",
        "    description=\"Ask questions based on uploaded course PDFs. Powered by LLaMA3 + local embeddings.\"\n",
        ")\n",
        "\n",
        "demo.launch(share=True)\n"
      ],
      "metadata": {
        "colab": {
          "base_uri": "https://localhost:8080/",
          "height": 613
        },
        "id": "Uqhtf8XrSviF",
        "outputId": "45f65e50-bb83-499f-c835-0da202f7a6a4"
      },
      "execution_count": 17,
      "outputs": [
        {
          "output_type": "stream",
          "name": "stdout",
          "text": [
            "Colab notebook detected. To show errors in colab notebook, set debug=True in launch()\n",
            "* Running on public URL: https://78fba05bc18ac89d6c.gradio.live\n",
            "\n",
            "This share link expires in 1 week. For free permanent hosting and GPU upgrades, run `gradio deploy` from the terminal in the working directory to deploy to Hugging Face Spaces (https://huggingface.co/spaces)\n"
          ]
        },
        {
          "output_type": "display_data",
          "data": {
            "text/plain": [
              "<IPython.core.display.HTML object>"
            ],
            "text/html": [
              "<div><iframe src=\"https://78fba05bc18ac89d6c.gradio.live\" width=\"100%\" height=\"500\" allow=\"autoplay; camera; microphone; clipboard-read; clipboard-write;\" frameborder=\"0\" allowfullscreen></iframe></div>"
            ]
          },
          "metadata": {}
        },
        {
          "output_type": "execute_result",
          "data": {
            "text/plain": []
          },
          "metadata": {},
          "execution_count": 17
        }
      ]
    },
    {
      "cell_type": "markdown",
      "source": [
        "### Final"
      ],
      "metadata": {
        "id": "CF8hkGQnc-Dc"
      }
    },
    {
      "cell_type": "code",
      "source": [
        "def rag_pipeline(question, files):\n",
        "    # Step 1: Read and extract text from uploaded PDFs\n",
        "    texts = []\n",
        "    for file in files:\n",
        "        reader = PdfReader(file.name)\n",
        "        pdf_text = \"\\n\".join(page.extract_text() for page in reader.pages if page.extract_text())\n",
        "        texts.append(pdf_text)\n",
        "\n",
        "    # Step 2: Chunk the combined text\n",
        "    full_text = \"\\n\".join(texts)\n",
        "    splitter = RecursiveCharacterTextSplitter(chunk_size=500, chunk_overlap=50)\n",
        "    chunks = splitter.split_text(full_text)\n",
        "\n",
        "    # Step 3: Create in-memory FAISS vector DB\n",
        "    embedding_model = OllamaEmbeddings(model=\"mxbai-embed-large\")\n",
        "    vector_db = FAISS.from_texts(chunks, embedding_model)\n",
        "\n",
        "    # Step 4: Perform similarity search\n",
        "    similar_docs = vector_db.similarity_search(question, k=3)\n",
        "    context = \"\\n\\n\".join([doc.page_content for doc in similar_docs])\n",
        "\n",
        "    # Step 5: Construct prompt with Bou Asba's persona\n",
        "    prompt = f\"\"\"\n",
        "You are Bou Asba, a helpful and knowledgeable assistant here to help students understand course materials.\n",
        "\n",
        "Use the context below, which comes from course PDFs, to answer the question in a clear and friendly manner.\n",
        "\n",
        "Context:\n",
        "{context}\n",
        "\n",
        "Question: {question}\n",
        "\n",
        "Answer as Bou Asba:\n",
        "\"\"\"\n",
        "\n",
        "    # Step 6: Call Ollama (LLaMA 3.2)\n",
        "    response = requests.post(\n",
        "        \"http://localhost:11434/api/generate\",\n",
        "        json={\"model\": \"llama3.2\", \"prompt\": prompt, \"stream\": False}\n",
        "    )\n",
        "\n",
        "    return response.json()[\"response\"]\n",
        "\n",
        "# 🎨 Gradio UI\n",
        "demo = gr.Interface(\n",
        "    fn=rag_pipeline,\n",
        "    inputs=[\n",
        "        gr.Textbox(label=\"Your Question\", placeholder=\"Ask me anything from your course material...\"),\n",
        "        gr.File(file_types=[\".pdf\"], label=\"Upload Course PDFs\", file_count=\"multiple\")\n",
        "    ],\n",
        "    outputs=\"text\",\n",
        "    title=\"📘 Bou Asba - Your Study Assistant\",\n",
        "    description=\"Meet Bou Asba, your friendly AI tutor! 📚 Upload your course PDFs and ask anything. Bou is here to help you learn 🤓.\"\n",
        ")\n",
        "\n",
        "demo.launch(share=True)"
      ],
      "metadata": {
        "colab": {
          "base_uri": "https://localhost:8080/",
          "height": 613
        },
        "id": "vwns4utUSz5n",
        "outputId": "bb0f8df0-c807-4be0-f936-6aeccce7ee16"
      },
      "execution_count": 13,
      "outputs": [
        {
          "output_type": "stream",
          "name": "stdout",
          "text": [
            "Colab notebook detected. To show errors in colab notebook, set debug=True in launch()\n",
            "* Running on public URL: https://08b432540bc9455bf2.gradio.live\n",
            "\n",
            "This share link expires in 1 week. For free permanent hosting and GPU upgrades, run `gradio deploy` from the terminal in the working directory to deploy to Hugging Face Spaces (https://huggingface.co/spaces)\n"
          ]
        },
        {
          "output_type": "display_data",
          "data": {
            "text/plain": [
              "<IPython.core.display.HTML object>"
            ],
            "text/html": [
              "<div><iframe src=\"https://08b432540bc9455bf2.gradio.live\" width=\"100%\" height=\"500\" allow=\"autoplay; camera; microphone; clipboard-read; clipboard-write;\" frameborder=\"0\" allowfullscreen></iframe></div>"
            ]
          },
          "metadata": {}
        },
        {
          "output_type": "execute_result",
          "data": {
            "text/plain": []
          },
          "metadata": {},
          "execution_count": 13
        }
      ]
    },
    {
      "cell_type": "code",
      "source": [],
      "metadata": {
        "id": "7aSLKz_4d_zK"
      },
      "execution_count": null,
      "outputs": []
    }
  ]
}