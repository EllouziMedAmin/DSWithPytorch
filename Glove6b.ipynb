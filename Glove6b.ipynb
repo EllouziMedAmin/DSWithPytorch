{
  "nbformat": 4,
  "nbformat_minor": 0,
  "metadata": {
    "colab": {
      "provenance": [],
      "gpuType": "T4",
      "authorship_tag": "ABX9TyNQk+GRJ/V7poCJmnzJgde3",
      "include_colab_link": true
    },
    "kernelspec": {
      "name": "python3",
      "display_name": "Python 3"
    },
    "language_info": {
      "name": "python"
    },
    "accelerator": "GPU"
  },
  "cells": [
    {
      "cell_type": "markdown",
      "metadata": {
        "id": "view-in-github",
        "colab_type": "text"
      },
      "source": [
        "<a href=\"https://colab.research.google.com/github/EllouziMedAmin/DSWithPytorch/blob/main/Glove6b.ipynb\" target=\"_parent\"><img src=\"https://colab.research.google.com/assets/colab-badge.svg\" alt=\"Open In Colab\"/></a>"
      ]
    },
    {
      "cell_type": "code",
      "source": [
        "!pip uninstall torch torchtext\n"
      ],
      "metadata": {
        "collapsed": true,
        "id": "x98_sYplO6Ul"
      },
      "execution_count": null,
      "outputs": []
    },
    {
      "cell_type": "code",
      "source": [
        "!pip install torch==2.1.0 torchtext==0.16.0"
      ],
      "metadata": {
        "collapsed": true,
        "id": "ujm3D9JXQLBl"
      },
      "execution_count": null,
      "outputs": []
    },
    {
      "cell_type": "code",
      "source": [
        "import torch\n",
        "import torchtext"
      ],
      "metadata": {
        "collapsed": true,
        "id": "FU0TI-SgQ8ra"
      },
      "execution_count": null,
      "outputs": []
    },
    {
      "cell_type": "code",
      "source": [
        "import torchtext.vocab as vocab"
      ],
      "metadata": {
        "id": "I4RzlPzrSYo2"
      },
      "execution_count": 2,
      "outputs": []
    },
    {
      "cell_type": "code",
      "source": [
        "glove = vocab.GloVe(name='6B', dim=100)"
      ],
      "metadata": {
        "colab": {
          "base_uri": "https://localhost:8080/"
        },
        "id": "iFgs2DPPScKX",
        "outputId": "88c5137c-71a2-4d3c-cff4-f3bff0c6bbda"
      },
      "execution_count": 3,
      "outputs": [
        {
          "output_type": "stream",
          "name": "stderr",
          "text": [
            ".vector_cache/glove.6B.zip: 862MB [02:38, 5.43MB/s]                           \n",
            "100%|█████████▉| 399999/400000 [00:18<00:00, 22147.32it/s]\n"
          ]
        }
      ]
    },
    {
      "cell_type": "code",
      "source": [
        "glove.stoi['man']"
      ],
      "metadata": {
        "colab": {
          "base_uri": "https://localhost:8080/"
        },
        "id": "6UDCojXKSkBp",
        "outputId": "9adf68de-4e81-4a91-cefd-af2f2faeaceb"
      },
      "execution_count": 4,
      "outputs": [
        {
          "output_type": "execute_result",
          "data": {
            "text/plain": [
              "300"
            ]
          },
          "metadata": {},
          "execution_count": 4
        }
      ]
    },
    {
      "cell_type": "code",
      "source": [
        "glove.stoi['woman']"
      ],
      "metadata": {
        "colab": {
          "base_uri": "https://localhost:8080/"
        },
        "id": "D4e4EmmQTY0M",
        "outputId": "7ae45bd8-d851-4ed7-8a93-4b49dca8d49b"
      },
      "execution_count": 5,
      "outputs": [
        {
          "output_type": "execute_result",
          "data": {
            "text/plain": [
              "787"
            ]
          },
          "metadata": {},
          "execution_count": 5
        }
      ]
    },
    {
      "cell_type": "code",
      "source": [
        "glove.itos[300]"
      ],
      "metadata": {
        "colab": {
          "base_uri": "https://localhost:8080/",
          "height": 35
        },
        "id": "oIX2Zz0VTdZl",
        "outputId": "78c2c7ba-e365-4649-cd46-3850aa170f55"
      },
      "execution_count": 7,
      "outputs": [
        {
          "output_type": "execute_result",
          "data": {
            "text/plain": [
              "'man'"
            ],
            "application/vnd.google.colaboratory.intrinsic+json": {
              "type": "string"
            }
          },
          "metadata": {},
          "execution_count": 7
        }
      ]
    },
    {
      "cell_type": "code",
      "source": [
        "glove.itos[787]"
      ],
      "metadata": {
        "colab": {
          "base_uri": "https://localhost:8080/",
          "height": 35
        },
        "id": "QG1htgmvTgfX",
        "outputId": "18b40b81-3069-4137-c9f5-6c1780d9c87c"
      },
      "execution_count": 8,
      "outputs": [
        {
          "output_type": "execute_result",
          "data": {
            "text/plain": [
              "'woman'"
            ],
            "application/vnd.google.colaboratory.intrinsic+json": {
              "type": "string"
            }
          },
          "metadata": {},
          "execution_count": 8
        }
      ]
    },
    {
      "cell_type": "code",
      "source": [
        "def get_embedding_vect(word):\n",
        "  index=glove.stoi[word]\n",
        "  return glove.vectors[index]"
      ],
      "metadata": {
        "id": "mOA3a-L4ToYh"
      },
      "execution_count": 9,
      "outputs": []
    },
    {
      "cell_type": "code",
      "source": [
        "get_embedding_vect('man')"
      ],
      "metadata": {
        "colab": {
          "base_uri": "https://localhost:8080/"
        },
        "id": "4vagasTVT9QS",
        "outputId": "72fba362-8bb4-4234-bc4a-888dd6526b62"
      },
      "execution_count": 12,
      "outputs": [
        {
          "output_type": "execute_result",
          "data": {
            "text/plain": [
              "tensor([ 3.7293e-01,  3.8503e-01,  7.1086e-01, -6.5911e-01, -1.0128e-03,\n",
              "         9.2715e-01,  2.7615e-01, -5.6203e-02, -2.4294e-01,  2.4632e-01,\n",
              "        -1.8449e-01,  3.1398e-01,  4.8983e-01,  9.2560e-02,  3.2958e-01,\n",
              "         1.5056e-01,  5.7317e-01, -1.8529e-01, -5.2277e-01,  4.6191e-01,\n",
              "         9.2038e-01,  3.1001e-02, -1.6246e-01, -4.0567e-01,  7.8621e-01,\n",
              "         5.7722e-01, -5.3501e-01, -6.8228e-01,  1.6987e-01,  3.6310e-01,\n",
              "        -7.1773e-02,  4.7233e-01,  2.7806e-02, -1.4951e-01,  1.7543e-01,\n",
              "        -3.7573e-01, -7.8517e-01,  5.8171e-01,  8.6859e-01,  3.1445e-02,\n",
              "        -4.5897e-01, -4.0917e-02,  9.5897e-01, -1.6975e-01,  1.3045e-01,\n",
              "         2.7434e-01, -6.9485e-02,  2.2402e-02,  2.4977e-01, -2.1536e-01,\n",
              "        -3.2406e-01, -3.9867e-01,  6.8613e-01,  1.7923e+00, -3.7848e-01,\n",
              "        -2.2477e+00, -7.7025e-01,  4.6582e-01,  1.2411e+00,  5.7756e-01,\n",
              "         4.1151e-01,  8.4328e-01, -5.4259e-01, -1.6715e-01,  7.3927e-01,\n",
              "        -9.3477e-02,  9.0278e-01,  5.0889e-01, -5.0031e-01,  2.6451e-01,\n",
              "         1.5443e-01, -2.9432e-01,  1.0906e-01, -2.6667e-01,  3.5438e-01,\n",
              "         4.9079e-02,  1.8018e-01, -5.8590e-01, -5.5542e-01, -2.8987e-01,\n",
              "         7.4278e-01,  3.4530e-01, -2.8757e-02, -2.2646e-01, -1.3113e+00,\n",
              "        -5.7190e-01, -5.2306e-01, -1.2670e-01, -9.8678e-02, -5.3463e-01,\n",
              "         2.8607e-01, -3.7501e-01,  4.5742e-01,  4.5975e-02, -2.4675e-01,\n",
              "         4.5656e-02, -3.8302e-01, -9.3711e-01,  3.9138e-02, -5.3911e-01])"
            ]
          },
          "metadata": {},
          "execution_count": 12
        }
      ]
    },
    {
      "cell_type": "code",
      "source": [
        "get_embedding_vect('man').shape"
      ],
      "metadata": {
        "colab": {
          "base_uri": "https://localhost:8080/"
        },
        "id": "DCcMjx17UWP_",
        "outputId": "bfa4d73a-3367-4129-cd9b-486a401c2e2e"
      },
      "execution_count": 13,
      "outputs": [
        {
          "output_type": "execute_result",
          "data": {
            "text/plain": [
              "torch.Size([100])"
            ]
          },
          "metadata": {},
          "execution_count": 13
        }
      ]
    },
    {
      "cell_type": "code",
      "source": [
        "# get closest word\n",
        "def get_closest_word(word,Max_closest=5):\n",
        "  emb=get_embedding_vect(word)\n",
        "  distances = torch.norm(glove.vectors - emb, dim=1)\n",
        "  idx = torch.argsort(distances)\n",
        "  closest_words = [glove.itos[i] for i in idx]\n",
        "  return closest_words[1:Max_closest+1]"
      ],
      "metadata": {
        "id": "a3TjjwoaUcGh"
      },
      "execution_count": 15,
      "outputs": []
    },
    {
      "cell_type": "code",
      "source": [
        "get_closest_word(\"football\")\n"
      ],
      "metadata": {
        "colab": {
          "base_uri": "https://localhost:8080/"
        },
        "id": "a2oL4Zb5Voqu",
        "outputId": "667e8e7c-a60d-4449-9842-5abb332d1e63"
      },
      "execution_count": 18,
      "outputs": [
        {
          "output_type": "execute_result",
          "data": {
            "text/plain": [
              "['soccer', 'basketball', 'league', 'rugby', 'hockey']"
            ]
          },
          "metadata": {},
          "execution_count": 18
        }
      ]
    },
    {
      "cell_type": "code",
      "source": [
        "get_closest_word(\"ronaldo\")\n"
      ],
      "metadata": {
        "colab": {
          "base_uri": "https://localhost:8080/"
        },
        "id": "vUMgH6tNWING",
        "outputId": "08616e75-c2b6-4bc6-d2a4-d3e43cccee14"
      },
      "execution_count": 19,
      "outputs": [
        {
          "output_type": "execute_result",
          "data": {
            "text/plain": [
              "['ronaldinho', 'rivaldo', 'beckham', 'cristiano', 'robinho']"
            ]
          },
          "metadata": {},
          "execution_count": 19
        }
      ]
    },
    {
      "cell_type": "code",
      "source": [
        "get_closest_word(\"chess\")"
      ],
      "metadata": {
        "colab": {
          "base_uri": "https://localhost:8080/"
        },
        "id": "iXcSue3VWc53",
        "outputId": "5a301216-e822-4bb5-9055-f2a9bc35dc55"
      },
      "execution_count": 20,
      "outputs": [
        {
          "output_type": "execute_result",
          "data": {
            "text/plain": [
              "['backgammon', 'grandmasters', 'grandmaster', 'scrabble', 'billiards']"
            ]
          },
          "metadata": {},
          "execution_count": 20
        }
      ]
    },
    {
      "cell_type": "code",
      "source": [
        "get_closest_word(\"man\")"
      ],
      "metadata": {
        "colab": {
          "base_uri": "https://localhost:8080/"
        },
        "id": "7Kc9qDTkWgIg",
        "outputId": "f4411e0f-bf1f-4d64-84dd-e7f6ecbadbcd"
      },
      "execution_count": 21,
      "outputs": [
        {
          "output_type": "execute_result",
          "data": {
            "text/plain": [
              "['woman', 'boy', 'one', 'turned', 'another']"
            ]
          },
          "metadata": {},
          "execution_count": 21
        }
      ]
    },
    {
      "cell_type": "code",
      "source": [
        "from math import e\n",
        "# find analogies\n",
        "#king to a queen is like a man to a woman\n",
        "def find_analogies(w1,w2,w3):\n",
        "  emb1=get_embedding_vect(w1)\n",
        "  emb2=get_embedding_vect(w2)\n",
        "  emb3=get_embedding_vect(w3)\n",
        "  emb4=emb1-emb2+emb3\n",
        "  #now we find the closest words juste like the last function\n",
        "  distances = torch.norm(glove.vectors - emb4, dim=1)\n",
        "  idx = torch.argsort(distances)\n",
        "  closest_words = [glove.itos[i] for i in idx]\n",
        "  return closest_words[:5]"
      ],
      "metadata": {
        "id": "SpXT4fZoXCvr"
      },
      "execution_count": 26,
      "outputs": []
    },
    {
      "cell_type": "code",
      "source": [
        "find_analogies(w1=\"sister\",w2=\"brother\",w3=\"nephew\")"
      ],
      "metadata": {
        "colab": {
          "base_uri": "https://localhost:8080/"
        },
        "id": "3SRt6b02Xv4v",
        "outputId": "1d638d0c-8790-4ddc-8291-213834ddf79c"
      },
      "execution_count": 30,
      "outputs": [
        {
          "output_type": "execute_result",
          "data": {
            "text/plain": [
              "['sister', 'niece', 'granddaughter', 'sister-in-law', 'cousin']"
            ]
          },
          "metadata": {},
          "execution_count": 30
        }
      ]
    },
    {
      "cell_type": "code",
      "source": [],
      "metadata": {
        "id": "AgXIYrITYRYS"
      },
      "execution_count": null,
      "outputs": []
    }
  ]
}